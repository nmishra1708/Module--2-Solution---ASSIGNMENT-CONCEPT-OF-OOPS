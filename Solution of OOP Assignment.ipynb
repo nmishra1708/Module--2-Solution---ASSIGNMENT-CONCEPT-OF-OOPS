{
 "cells": [
  {
   "cell_type": "code",
   "execution_count": 1,
   "metadata": {},
   "outputs": [],
   "source": [
    "class BankAccount:\n",
    "    balance = 0\n",
    "    def __init__(self,name,balance):\n",
    "        self.name = name\n",
    "        self.balance = balance\n",
    "   \n",
    "    def check_balance(self):\n",
    "        print(\"Your Balance is:\", self.balance)\n",
    "      \n",
    "    def deposit(self, dep):\n",
    "        self.dep = dep\n",
    "        self.balance += self.dep\n",
    "        print(\"The balance is\", self.balance)\n",
    "\n",
    "    def withdraw(self, wdraw):\n",
    "        self.wdraw = wdraw\n",
    "        self.balance -= self.wdraw\n",
    "        print(\"The Current balank is\", self.balance)"
   ]
  },
  {
   "cell_type": "code",
   "execution_count": 2,
   "metadata": {},
   "outputs": [],
   "source": [
    "class MinimumBalanceAccount(BankAccount):\n",
    "    \n",
    "    def __init__(self,name,balance):\n",
    "        self.name = name\n",
    "        self.balance = balance\n",
    "        \n",
    "        \n",
    "    def withdraw(self, wdraw):\n",
    "        min_balance = 5000\n",
    "        self.wdraw = wdraw\n",
    "        \n",
    "        print(\"Current Account Balance is \", self.balance)\n",
    "        \n",
    "        self.balance -= self.wdraw\n",
    "        print(\"After withdraw Current Account Balance is \", self.balance)\n",
    "        \n",
    "        if self.balance <= min_balance:\n",
    "            print(\"Please maintain you minimum balance\\n\")   "
   ]
  },
  {
   "cell_type": "code",
   "execution_count": 3,
   "metadata": {},
   "outputs": [],
   "source": [
    "harry = MinimumBalanceAccount(\"Harry\", 8000)"
   ]
  },
  {
   "cell_type": "code",
   "execution_count": 4,
   "metadata": {},
   "outputs": [
    {
     "data": {
      "text/plain": [
       "8000"
      ]
     },
     "execution_count": 4,
     "metadata": {},
     "output_type": "execute_result"
    }
   ],
   "source": [
    "harry.balance"
   ]
  },
  {
   "cell_type": "code",
   "execution_count": 6,
   "metadata": {},
   "outputs": [
    {
     "name": "stdout",
     "output_type": "stream",
     "text": [
      "Current Account Balance is  6000\n",
      "After withdraw Current Account Balance is  2000\n",
      "Please maintain you minimum balance\n",
      "\n"
     ]
    }
   ],
   "source": [
    "harry.withdraw(4000)"
   ]
  },
  {
   "cell_type": "code",
   "execution_count": null,
   "metadata": {},
   "outputs": [],
   "source": []
  }
 ],
 "metadata": {
  "kernelspec": {
   "display_name": "Python 3",
   "language": "python",
   "name": "python3"
  },
  "language_info": {
   "codemirror_mode": {
    "name": "ipython",
    "version": 3
   },
   "file_extension": ".py",
   "mimetype": "text/x-python",
   "name": "python",
   "nbconvert_exporter": "python",
   "pygments_lexer": "ipython3",
   "version": "3.7.5"
  }
 },
 "nbformat": 4,
 "nbformat_minor": 2
}
